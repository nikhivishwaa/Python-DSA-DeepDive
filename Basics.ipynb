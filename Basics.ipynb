{
 "cells": [
  {
   "cell_type": "markdown",
   "id": "d180d73a-8c67-4020-b322-dc03b20c9485",
   "metadata": {},
   "source": [
    "### Count the Digits"
   ]
  },
  {
   "cell_type": "markdown",
   "id": "fc5dc1bd-c6af-45b2-b227-25911cea8734",
   "metadata": {},
   "source": [
    "- TC: O(log10(n))\n",
    "- SC: O(1)"
   ]
  },
  {
   "cell_type": "code",
   "execution_count": 2,
   "id": "67b77547-4bbc-4552-aa2c-33107d01733c",
   "metadata": {},
   "outputs": [
    {
     "name": "stdin",
     "output_type": "stream",
     "text": [
      " 14520\n"
     ]
    },
    {
     "name": "stdout",
     "output_type": "stream",
     "text": [
      "5"
     ]
    }
   ],
   "source": [
    "n = int(input())\n",
    "num = n\n",
    "count = 0\n",
    "\n",
    "while num>0:\n",
    "    num //= 10\n",
    "    count+=1\n",
    "\n",
    "print(count, end=\"\")"
   ]
  },
  {
   "cell_type": "code",
   "execution_count": 22,
   "id": "dd9fd606-61ad-4e8d-8c6c-3c5ef7ff1ee3",
   "metadata": {},
   "outputs": [
    {
     "name": "stdin",
     "output_type": "stream",
     "text": [
      " 102\n"
     ]
    },
    {
     "name": "stdout",
     "output_type": "stream",
     "text": [
      "3"
     ]
    }
   ],
   "source": [
    "from math import *\n",
    "\n",
    "n = int(input())\n",
    "count = int(log10(n)) + 1\n",
    "print(count, end=\"\")"
   ]
  },
  {
   "cell_type": "markdown",
   "id": "b54c5ad9-a442-4b38-bd90-03c1660c9cc5",
   "metadata": {},
   "source": [
    "### Check if No. is Pallindrom"
   ]
  },
  {
   "cell_type": "markdown",
   "id": "02580d4d-0928-4bba-b460-9f251c1e6fc5",
   "metadata": {},
   "source": [
    "- TC: O(log10(n))\n",
    "- SC: O(1)"
   ]
  },
  {
   "cell_type": "code",
   "execution_count": 13,
   "id": "410658e7-7522-4ac9-9ded-673788df37a9",
   "metadata": {},
   "outputs": [
    {
     "name": "stdin",
     "output_type": "stream",
     "text": [
      " 121\n"
     ]
    },
    {
     "name": "stdout",
     "output_type": "stream",
     "text": [
      "yes\n"
     ]
    }
   ],
   "source": [
    "n = int(input())\n",
    "result = 0\n",
    "num = n\n",
    "\n",
    "while num > 0:\n",
    "    last_digit = num % 10\n",
    "    result = result * 10 + last_digit\n",
    "    num //= 10\n",
    "\n",
    "if n == result:\n",
    "    print(\"yes\")\n",
    "else:\n",
    "    print(\"no\")"
   ]
  },
  {
   "cell_type": "markdown",
   "id": "d27baa1e-3daf-4fe9-9591-d99bd1450f0a",
   "metadata": {},
   "source": [
    "### Check Armstrong No."
   ]
  },
  {
   "cell_type": "markdown",
   "id": "c77aed4d-5db5-4a17-a3be-cd258615b74b",
   "metadata": {},
   "source": [
    "```\n",
    "153 = 1^3 + 5^3 + 3^3\n",
    "    = 1 + 125 + 27\n",
    "    = 153\n",
    "```\n",
    "\n",
    "```\n",
    "1534 = 1^4 + 6^4 + 3^4 + 4^4\n",
    "     = 1 + 1296 + 81 + 256\n",
    "     = 1634\n",
    "```\n",
    "\n",
    "- TC: O(log10(N))\n",
    "- SC: O(1)"
   ]
  },
  {
   "cell_type": "code",
   "execution_count": 15,
   "id": "daf04ad3-9f16-4f86-bb25-fd879a1536be",
   "metadata": {},
   "outputs": [
    {
     "name": "stdin",
     "output_type": "stream",
     "text": [
      " 153\n"
     ]
    },
    {
     "name": "stdout",
     "output_type": "stream",
     "text": [
      "True\n"
     ]
    }
   ],
   "source": [
    "n = int(input())\n",
    "num = n\n",
    "num_of_digit = 1 + int(log10(num))\n",
    "\n",
    "result = 0\n",
    "while num>0:\n",
    "    result += (num % 10) ** num_of_digit\n",
    "    num //= 10\n",
    "\n",
    "print(n==result)"
   ]
  },
  {
   "cell_type": "markdown",
   "id": "41e61eee-ece2-4136-b136-fe9873c21387",
   "metadata": {},
   "source": [
    "### Print Factors of a No."
   ]
  },
  {
   "cell_type": "markdown",
   "id": "8e5aecc1-97be-4d23-a1da-f2957d0478af",
   "metadata": {},
   "source": [
    "##### Brute Force Approach\n",
    "\n",
    "- TC: O(n)\n",
    "- SC: O(k)  `where k is the no of factors`"
   ]
  },
  {
   "cell_type": "code",
   "execution_count": 20,
   "id": "81b40554-6b56-48e0-baed-5f17dfcf11a1",
   "metadata": {},
   "outputs": [
    {
     "name": "stdin",
     "output_type": "stream",
     "text": [
      " 10\n"
     ]
    },
    {
     "name": "stdout",
     "output_type": "stream",
     "text": [
      "[1, 2, 5, 10]\n"
     ]
    }
   ],
   "source": [
    "n = int(input())\n",
    "factors = []\n",
    "for i in range(1, n+1):\n",
    "    if n%i==0:\n",
    "        factors.append(i)\n",
    "print(factors)"
   ]
  },
  {
   "cell_type": "markdown",
   "id": "80d9b748-a114-4d6e-96b1-a18c29489975",
   "metadata": {},
   "source": [
    "### Approach 2\n",
    "\n",
    "- TC: O(n/2) ~ O(n)\n",
    "- SC: O(k)"
   ]
  },
  {
   "cell_type": "code",
   "execution_count": 21,
   "id": "6dca81e2-e969-4d51-9d9c-ac3eb91cb80f",
   "metadata": {},
   "outputs": [
    {
     "name": "stdin",
     "output_type": "stream",
     "text": [
      " 1024\n"
     ]
    },
    {
     "name": "stdout",
     "output_type": "stream",
     "text": [
      "[1, 2, 4, 8, 16, 32, 64, 128, 256, 512, 1024]\n"
     ]
    }
   ],
   "source": [
    "n = int(input())\n",
    "factors = []\n",
    "for i in range(1, n//2 + 1): # iterating till n/2\n",
    "    if n%i==0:\n",
    "        factors.append(i)\n",
    "factors.append(n)\n",
    "print(factors)"
   ]
  },
  {
   "cell_type": "markdown",
   "id": "1faa55f1-3185-4eab-be57-fb8e34cd359d",
   "metadata": {},
   "source": [
    "### Approach 3\n",
    "\n",
    "- TC: O(n^(1/2))\n",
    "- SC: O(k)"
   ]
  },
  {
   "cell_type": "code",
   "execution_count": 23,
   "id": "cb60e986-e7a7-4a6c-b386-4b869a440d88",
   "metadata": {},
   "outputs": [
    {
     "name": "stdin",
     "output_type": "stream",
     "text": [
      " 65534\n"
     ]
    },
    {
     "name": "stdout",
     "output_type": "stream",
     "text": [
      "[1, 65534, 2, 32767, 21844, 16383, 13106, 10922, 7, 9362, 8191, 7281, 6553, 5957, 5461, 5041, 14, 4681, 4368, 4095, 3854, 3640, 3449, 3276, 3120, 2978, 2849, 2730, 2621, 2520, 2427, 2340, 2259, 2184, 31, 2114, 2047, 1985, 1927, 1872, 1820, 1771, 1724, 1680, 1638, 1598, 1560, 1524, 1489, 1456, 1424, 1394, 1365, 1337, 1310, 1284, 1260, 1236, 1213, 1191, 1170, 1149, 1129, 1110, 1092, 1074, 62, 1057, 1040, 1023, 1008, 992, 978, 963, 949, 936, 923, 910, 897, 885, 873, 862, 851, 840, 829, 819, 809, 799, 789, 780, 770, 762, 753, 744, 736, 728, 720, 712, 704, 697, 689, 682, 675, 668, 661, 655, 648, 642, 636, 630, 624, 618, 612, 606, 601, 595, 590, 585, 579, 574, 569, 564, 560, 555, 550, 546, 541, 537, 532, 528, 524, 520, 516, 511, 508, 504, 500, 496, 492, 489, 485, 481, 478, 474, 471, 468, 464, 461, 458, 455, 451, 448, 445, 442, 439, 436, 151, 434, 431, 428, 425, 422, 420, 417, 414, 412, 409, 407, 404, 402, 399, 397, 394, 392, 390, 387, 385, 383, 381, 378, 376, 374, 372, 370, 368, 366, 364, 362, 360, 358, 356, 354, 352, 350, 348, 346, 344, 343, 341, 339, 337, 336, 334, 332, 330, 329, 327, 326, 324, 322, 321, 319, 318, 316, 315, 313, 312, 310, 309, 307, 306, 304, 303, 217, 302, 300, 299, 297, 296, 295, 293, 292, 291, 289, 288, 287, 286, 284, 283, 282, 281, 280, 278, 277, 276, 275, 274, 273, 271, 270, 269, 268, 267, 266, 265, 264, 263, 262, 261, 260, 259, 258, 256, 65534]\n"
     ]
    }
   ],
   "source": [
    "n = int(input())\n",
    "factors = []\n",
    "for i in range(1, int(sqrt(n)) + 1): # iterating till n/2\n",
    "    if n%i==0:\n",
    "        factors.append(i)\n",
    "    if n//i!=i:\n",
    "        factors.append(n//i)\n",
    "factors.append(n)\n",
    "print(factors)"
   ]
  },
  {
   "cell_type": "code",
   "execution_count": null,
   "id": "59af0532-b5c5-4a35-a356-1f026594b0ff",
   "metadata": {},
   "outputs": [],
   "source": []
  }
 ],
 "metadata": {
  "kernelspec": {
   "display_name": "Python 3 (ipykernel)",
   "language": "python",
   "name": "python3"
  },
  "language_info": {
   "codemirror_mode": {
    "name": "ipython",
    "version": 3
   },
   "file_extension": ".py",
   "mimetype": "text/x-python",
   "name": "python",
   "nbconvert_exporter": "python",
   "pygments_lexer": "ipython3",
   "version": "3.12.1"
  }
 },
 "nbformat": 4,
 "nbformat_minor": 5
}
