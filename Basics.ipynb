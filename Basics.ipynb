{
 "cells": [
  {
   "cell_type": "markdown",
   "id": "39ac75d9-d92a-4802-b665-4a8dfdbdfc79",
   "metadata": {},
   "source": [
    "## Space Complexity\n",
    "\n",
    "Space complexity is the **amount of memory (space) an algorithm uses while running, relative to the size of its input**.\n",
    "\n",
    "SC = Input Space + Auxiliary Space\n",
    "   \n",
    "   * Memory for input data\n",
    "   * Memory for auxiliary data structures (arrays, hash maps, stacks, etc.)\n",
    "   * Memory for function calls and recursion stack\n",
    "\n",
    "\n",
    "For example:\n",
    "\n",
    "* A simple loop that processes an array of size *n* requires **O(n)** space for storing the array.\n",
    "* A recursive Fibonacci function uses **O(n)** space due to the recursion call stack.\n",
    "\n",
    "👉 In short, space complexity measures how efficiently an algorithm uses memory as input size grows.\n",
    "\n"
   ]
  },
  {
   "cell_type": "markdown",
   "id": "d180d73a-8c67-4020-b322-dc03b20c9485",
   "metadata": {},
   "source": [
    "### Count the Digits"
   ]
  },
  {
   "cell_type": "markdown",
   "id": "fc5dc1bd-c6af-45b2-b227-25911cea8734",
   "metadata": {},
   "source": [
    "- TC: O(log10(n))\n",
    "- SC: O(1)"
   ]
  },
  {
   "cell_type": "code",
   "execution_count": 2,
   "id": "67b77547-4bbc-4552-aa2c-33107d01733c",
   "metadata": {},
   "outputs": [
    {
     "name": "stdin",
     "output_type": "stream",
     "text": [
      " 14520\n"
     ]
    },
    {
     "name": "stdout",
     "output_type": "stream",
     "text": [
      "5"
     ]
    }
   ],
   "source": [
    "n = int(input())\n",
    "num = n\n",
    "count = 0\n",
    "\n",
    "while num>0:\n",
    "    num //= 10\n",
    "    count+=1\n",
    "\n",
    "print(count, end=\"\")"
   ]
  },
  {
   "cell_type": "code",
   "execution_count": 22,
   "id": "dd9fd606-61ad-4e8d-8c6c-3c5ef7ff1ee3",
   "metadata": {},
   "outputs": [
    {
     "name": "stdin",
     "output_type": "stream",
     "text": [
      " 102\n"
     ]
    },
    {
     "name": "stdout",
     "output_type": "stream",
     "text": [
      "3"
     ]
    }
   ],
   "source": [
    "from math import *\n",
    "\n",
    "n = int(input())\n",
    "count = int(log10(n)) + 1\n",
    "print(count, end=\"\")"
   ]
  },
  {
   "cell_type": "markdown",
   "id": "b54c5ad9-a442-4b38-bd90-03c1660c9cc5",
   "metadata": {},
   "source": [
    "### Check if No. is Pallindrom"
   ]
  },
  {
   "cell_type": "markdown",
   "id": "02580d4d-0928-4bba-b460-9f251c1e6fc5",
   "metadata": {},
   "source": [
    "- TC: O(log10(n))\n",
    "- SC: O(1)"
   ]
  },
  {
   "cell_type": "code",
   "execution_count": 13,
   "id": "410658e7-7522-4ac9-9ded-673788df37a9",
   "metadata": {},
   "outputs": [
    {
     "name": "stdin",
     "output_type": "stream",
     "text": [
      " 121\n"
     ]
    },
    {
     "name": "stdout",
     "output_type": "stream",
     "text": [
      "yes\n"
     ]
    }
   ],
   "source": [
    "n = int(input())\n",
    "result = 0\n",
    "num = n\n",
    "\n",
    "while num > 0:\n",
    "    last_digit = num % 10\n",
    "    result = result * 10 + last_digit\n",
    "    num //= 10\n",
    "\n",
    "if n == result:\n",
    "    print(\"yes\")\n",
    "else:\n",
    "    print(\"no\")"
   ]
  },
  {
   "cell_type": "markdown",
   "id": "d27baa1e-3daf-4fe9-9591-d99bd1450f0a",
   "metadata": {},
   "source": [
    "### Check Armstrong No."
   ]
  },
  {
   "cell_type": "markdown",
   "id": "c77aed4d-5db5-4a17-a3be-cd258615b74b",
   "metadata": {},
   "source": [
    "```\n",
    "153 = 1^3 + 5^3 + 3^3\n",
    "    = 1 + 125 + 27\n",
    "    = 153\n",
    "```\n",
    "\n",
    "```\n",
    "1534 = 1^4 + 6^4 + 3^4 + 4^4\n",
    "     = 1 + 1296 + 81 + 256\n",
    "     = 1634\n",
    "```\n",
    "\n",
    "- TC: O(log10(N))\n",
    "- SC: O(1)"
   ]
  },
  {
   "cell_type": "code",
   "execution_count": 15,
   "id": "daf04ad3-9f16-4f86-bb25-fd879a1536be",
   "metadata": {},
   "outputs": [
    {
     "name": "stdin",
     "output_type": "stream",
     "text": [
      " 153\n"
     ]
    },
    {
     "name": "stdout",
     "output_type": "stream",
     "text": [
      "True\n"
     ]
    }
   ],
   "source": [
    "n = int(input())\n",
    "num = n\n",
    "num_of_digit = 1 + int(log10(num))\n",
    "\n",
    "result = 0\n",
    "while num>0:\n",
    "    result += (num % 10) ** num_of_digit\n",
    "    num //= 10\n",
    "\n",
    "print(n==result)"
   ]
  },
  {
   "cell_type": "markdown",
   "id": "41e61eee-ece2-4136-b136-fe9873c21387",
   "metadata": {},
   "source": [
    "### Print Factors of a No."
   ]
  },
  {
   "cell_type": "markdown",
   "id": "8e5aecc1-97be-4d23-a1da-f2957d0478af",
   "metadata": {},
   "source": [
    "##### Brute Force Approach\n",
    "\n",
    "- TC: O(n)\n",
    "- SC: O(k)  `where k is the no of factors`"
   ]
  },
  {
   "cell_type": "code",
   "execution_count": 20,
   "id": "81b40554-6b56-48e0-baed-5f17dfcf11a1",
   "metadata": {},
   "outputs": [
    {
     "name": "stdin",
     "output_type": "stream",
     "text": [
      " 10\n"
     ]
    },
    {
     "name": "stdout",
     "output_type": "stream",
     "text": [
      "[1, 2, 5, 10]\n"
     ]
    }
   ],
   "source": [
    "n = int(input())\n",
    "factors = []\n",
    "for i in range(1, n+1):\n",
    "    if n%i==0:\n",
    "        factors.append(i)\n",
    "print(factors)"
   ]
  },
  {
   "cell_type": "markdown",
   "id": "80d9b748-a114-4d6e-96b1-a18c29489975",
   "metadata": {},
   "source": [
    "### Approach 2\n",
    "\n",
    "- TC: O(n/2) ~ O(n)\n",
    "- SC: O(k)"
   ]
  },
  {
   "cell_type": "code",
   "execution_count": 21,
   "id": "6dca81e2-e969-4d51-9d9c-ac3eb91cb80f",
   "metadata": {},
   "outputs": [
    {
     "name": "stdin",
     "output_type": "stream",
     "text": [
      " 1024\n"
     ]
    },
    {
     "name": "stdout",
     "output_type": "stream",
     "text": [
      "[1, 2, 4, 8, 16, 32, 64, 128, 256, 512, 1024]\n"
     ]
    }
   ],
   "source": [
    "n = int(input())\n",
    "factors = []\n",
    "for i in range(1, n//2 + 1): # iterating till n/2\n",
    "    if n%i==0:\n",
    "        factors.append(i)\n",
    "factors.append(n)\n",
    "print(factors)"
   ]
  },
  {
   "cell_type": "markdown",
   "id": "1faa55f1-3185-4eab-be57-fb8e34cd359d",
   "metadata": {},
   "source": [
    "### Approach 3\n",
    "\n",
    "- TC: O(n^(1/2))\n",
    "- SC: O(k)"
   ]
  },
  {
   "cell_type": "code",
   "execution_count": 23,
   "id": "cb60e986-e7a7-4a6c-b386-4b869a440d88",
   "metadata": {},
   "outputs": [
    {
     "name": "stdin",
     "output_type": "stream",
     "text": [
      " 65534\n"
     ]
    },
    {
     "name": "stdout",
     "output_type": "stream",
     "text": [
      "[1, 65534, 2, 32767, 21844, 16383, 13106, 10922, 7, 9362, 8191, 7281, 6553, 5957, 5461, 5041, 14, 4681, 4368, 4095, 3854, 3640, 3449, 3276, 3120, 2978, 2849, 2730, 2621, 2520, 2427, 2340, 2259, 2184, 31, 2114, 2047, 1985, 1927, 1872, 1820, 1771, 1724, 1680, 1638, 1598, 1560, 1524, 1489, 1456, 1424, 1394, 1365, 1337, 1310, 1284, 1260, 1236, 1213, 1191, 1170, 1149, 1129, 1110, 1092, 1074, 62, 1057, 1040, 1023, 1008, 992, 978, 963, 949, 936, 923, 910, 897, 885, 873, 862, 851, 840, 829, 819, 809, 799, 789, 780, 770, 762, 753, 744, 736, 728, 720, 712, 704, 697, 689, 682, 675, 668, 661, 655, 648, 642, 636, 630, 624, 618, 612, 606, 601, 595, 590, 585, 579, 574, 569, 564, 560, 555, 550, 546, 541, 537, 532, 528, 524, 520, 516, 511, 508, 504, 500, 496, 492, 489, 485, 481, 478, 474, 471, 468, 464, 461, 458, 455, 451, 448, 445, 442, 439, 436, 151, 434, 431, 428, 425, 422, 420, 417, 414, 412, 409, 407, 404, 402, 399, 397, 394, 392, 390, 387, 385, 383, 381, 378, 376, 374, 372, 370, 368, 366, 364, 362, 360, 358, 356, 354, 352, 350, 348, 346, 344, 343, 341, 339, 337, 336, 334, 332, 330, 329, 327, 326, 324, 322, 321, 319, 318, 316, 315, 313, 312, 310, 309, 307, 306, 304, 303, 217, 302, 300, 299, 297, 296, 295, 293, 292, 291, 289, 288, 287, 286, 284, 283, 282, 281, 280, 278, 277, 276, 275, 274, 273, 271, 270, 269, 268, 267, 266, 265, 264, 263, 262, 261, 260, 259, 258, 256, 65534]\n"
     ]
    }
   ],
   "source": [
    "n = int(input())\n",
    "factors = []\n",
    "for i in range(1, int(sqrt(n)) + 1): # iterating till n/2\n",
    "    if n%i==0:\n",
    "        factors.append(i)\n",
    "    if n//i!=i:\n",
    "        factors.append(n//i)\n",
    "factors.append(n)\n",
    "print(factors)"
   ]
  },
  {
   "cell_type": "markdown",
   "id": "ea5aceca-cfa5-4d8b-9cec-ebdebe836ae2",
   "metadata": {},
   "source": [
    "### Count Frequesny of element"
   ]
  },
  {
   "cell_type": "markdown",
   "id": "8659daf4-5cc6-477f-99ed-2d1c32134567",
   "metadata": {},
   "source": [
    "- TC: O(n)\n",
    "- SC: O(n)"
   ]
  },
  {
   "cell_type": "code",
   "execution_count": 24,
   "id": "1ca7383f-0328-4686-be43-de5bed1a0507",
   "metadata": {},
   "outputs": [
    {
     "name": "stdin",
     "output_type": "stream",
     "text": [
      " 1 2 3 4 1 1 2 5 4 8 6 3 2 1 2 1 2 5 3 6 4 1 0\n"
     ]
    },
    {
     "name": "stdout",
     "output_type": "stream",
     "text": [
      "{1: 6, 2: 5, 3: 3, 4: 3, 5: 2, 8: 1, 6: 2, 0: 1}\n"
     ]
    }
   ],
   "source": [
    "elements = [int(i) for i in input().split()]\n",
    "frequency = {}\n",
    "\n",
    "for num in elements:\n",
    "    if num in frequency:\n",
    "        frequency[num] += 1\n",
    "    else:\n",
    "        frequency[num] = 1\n",
    "\n",
    "print(frequency)"
   ]
  },
  {
   "cell_type": "markdown",
   "id": "fcb3b425-6fd0-45fa-b9dd-38d1078241c6",
   "metadata": {},
   "source": [
    "- Method 2"
   ]
  },
  {
   "cell_type": "code",
   "execution_count": 26,
   "id": "d6e4a3b9-01f7-43ef-bc50-1bc81bc62fd3",
   "metadata": {},
   "outputs": [
    {
     "name": "stdin",
     "output_type": "stream",
     "text": [
      " 1 2 3 4 1 1 2 5 4 8 6 3 2 1 2 1 2 5 3 6 4 1 0\n"
     ]
    },
    {
     "name": "stdout",
     "output_type": "stream",
     "text": [
      "{1: 6, 2: 5, 3: 3, 4: 3, 5: 2, 8: 1, 6: 2, 0: 1}\n"
     ]
    }
   ],
   "source": [
    "elements = [int(i) for i in input().split()]\n",
    "frequency = {}\n",
    "\n",
    "for num in elements:\n",
    "    frequency[num] = frequency.get(num, 0) + 1\n",
    "\n",
    "print(frequency)"
   ]
  },
  {
   "cell_type": "markdown",
   "id": "4216a1c9-6d60-4f61-9d34-b1a833916761",
   "metadata": {},
   "source": [
    "## Hashing\n",
    "\n",
    "\n",
    "Hashing is a **technique used to map data of arbitrary size into fixed-size values** (called *hash values* or *hash codes*) using a **hash function**.\n",
    "\n",
    "The main idea is:\n",
    "\n",
    "* You take an input (like a number, string, or file).\n",
    "* Apply a **hash function** → it outputs a fixed-size value (usually an integer).\n",
    "* This hash value is then used to store, retrieve, or compare data efficiently.\n",
    "\n",
    "### Key Concepts:\n",
    "\n",
    "1. **Hash Function**\n",
    "\n",
    "   * A function that converts input data into a fixed-size integer (hash value).\n",
    "   * Example: `h(x) = x mod 10`\n",
    "\n",
    "2. **Hash Table (or Hash Map)**\n",
    "\n",
    "   * A data structure that uses hashing to store key-value pairs.\n",
    "   * The hash value determines the index (bucket) where data is stored.\n",
    "   * Lookup, insertion, and deletion can often be done in **O(1) average time**.\n",
    "\n",
    "3. **Collisions**\n",
    "\n",
    "   * When two different inputs produce the same hash value.\n",
    "   * Common strategies to handle collisions:\n",
    "\n",
    "     * **Chaining** → store multiple values in a list at the same index.\n",
    "     * **Open Addressing** → find another empty slot using probing (linear, quadratic, double hashing).\n",
    "\n",
    "### Example:\n",
    "\n",
    "Suppose we want to store roll numbers in a hash table of size 10.\n",
    "Hash function: `h(x) = x mod 10`\n",
    "\n",
    "* Roll no. `123` → `123 mod 10 = 3` → stored at index 3.\n",
    "* Roll no. `457` → `457 mod 10 = 7` → stored at index 7.\n",
    "\n",
    "### Applications of Hashing:\n",
    "\n",
    "* Fast data retrieval (Databases, Hash Maps in programming).\n",
    "* Password storage (storing hashed passwords).\n",
    "* Data integrity (checksums, cryptographic hashes).\n",
    "* Compilers (symbol tables).\n",
    "\n",
    "👉 In short, **hashing is a way of mapping data to fixed-size values for fast storage and retrieval.**"
   ]
  },
  {
   "cell_type": "markdown",
   "id": "6c4122cc-2085-4a41-9897-6a125b1254e9",
   "metadata": {},
   "source": [
    "### Number hashing\n",
    "\n",
    "- 1<=n[i]<=10\n",
    "- n can have 10^8 elements\n",
    "- m can have 10^8 elements"
   ]
  },
  {
   "cell_type": "markdown",
   "id": "66c4b3db-d69d-4120-91d5-85a53cc22e20",
   "metadata": {},
   "source": [
    "- TC: O(n+m)\n",
    "- SC: O(11) ~ O(1)"
   ]
  },
  {
   "cell_type": "code",
   "execution_count": 33,
   "id": "077a04c3-75fd-455c-b8d3-89edcdbdd077",
   "metadata": {},
   "outputs": [
    {
     "name": "stdout",
     "output_type": "stream",
     "text": [
      "10 1\n",
      "111 0\n",
      "1 1\n",
      "9 0\n",
      "5 5\n",
      "67 0\n",
      "2 2\n"
     ]
    }
   ],
   "source": [
    "n = [5,3,2,2,1,5,5,7,5,5,10]\n",
    "q = [10,111,1,9,5,67,2]\n",
    "\n",
    "# hashing using list\n",
    "hash_table = [0] * 11\n",
    "\n",
    "# prestoring values\n",
    "for i in n:\n",
    "    hash_table[i] = hash_table[i] + 1\n",
    "\n",
    "# retrievimg counts\n",
    "for i in q:\n",
    "    if i>10 or i<1:\n",
    "        print(i,0)\n",
    "    else:\n",
    "        print(i, hash_table[i])"
   ]
  },
  {
   "cell_type": "markdown",
   "id": "845e9940-c162-4885-9424-de4cf8cb6541",
   "metadata": {},
   "source": [
    "### character hashing\n",
    "\n",
    "\n",
    "- s[i] can be a-z\n",
    "- s can have 10^8 characters\n",
    "- q can have 10^8 characters"
   ]
  },
  {
   "cell_type": "markdown",
   "id": "9bbbc983-e6cb-4e3b-8d25-e8342132e9ad",
   "metadata": {},
   "source": [
    "- TC: O(s+q)\n",
    "- SC: O(26) ~ O(1)"
   ]
  },
  {
   "cell_type": "code",
   "execution_count": 32,
   "id": "5f4e0ff4-6a2b-4b71-ba73-3a7cd77ae5d4",
   "metadata": {},
   "outputs": [
    {
     "name": "stdout",
     "output_type": "stream",
     "text": [
      "a 9\n",
      "b 8\n",
      "z 0\n",
      "k 4\n",
      "f 10\n",
      "n 2\n",
      "t 0\n"
     ]
    }
   ],
   "source": [
    "s = 'ajshfdkjsbasajgfbhasahdvashgvdjahvsfdakjsfbhjasdbfklnmjfsdgnjkdfbgjfdbgjbfgjbfg'\n",
    "m = ['a', 'b', 'z', 'k', 'f', 'n', 't']\n",
    "\n",
    "# hashing using list\n",
    "hash_table = [0] * 26\n",
    "\n",
    "# prestoring values\n",
    "for char in s:\n",
    "    index = ord(char) - 97 # ASCII of a is 97\n",
    "    hash_table[index] = hash_table[index] + 1\n",
    "\n",
    "# retrieving counts\n",
    "for char in m:\n",
    "    index = ord(char) - 97\n",
    "    print(char, hash_table[index])"
   ]
  },
  {
   "cell_type": "markdown",
   "id": "d0868c24-6e59-48c5-8ca6-26c05dbcfd78",
   "metadata": {},
   "source": [
    "## Recursion\n",
    "\n",
    "Recursion is a **programming technique where a function calls itself**—either directly or indirectly—to solve a problem.\n",
    "\n",
    "The idea is to break a large problem into **smaller subproblems of the same type** until reaching a simple case (called the **base case**) that can be solved directly.\n",
    "\n",
    "---\n",
    "\n",
    "### Structure of Recursion:\n",
    "\n",
    "1. **Base Case** → condition where the function stops calling itself.\n",
    "2. **Recursive Case** → the part where the function calls itself with a smaller/simpler input.\n",
    "\n",
    "---\n",
    "\n",
    "### Example 1: Factorial\n",
    "\n",
    "Factorial of *n* (`n! = n × (n-1) × ... × 1`)\n",
    "\n",
    "```python\n",
    "def factorial(n):\n",
    "    if n == 0 or n == 1:  # Base case\n",
    "        return 1\n",
    "    else:                 # Recursive case\n",
    "        return n * factorial(n - 1)\n",
    "```\n",
    "\n",
    "Call flow for `factorial(4)` →\n",
    "`4 * factorial(3)` → `4 * 3 * factorial(2)` → `4 * 3 * 2 * factorial(1)` → `4 * 3 * 2 * 1`.\n",
    "\n",
    "---\n",
    "\n",
    "### Example 2: Fibonacci Sequence\n",
    "\n",
    "```python\n",
    "def fib(n):\n",
    "    if n <= 1:   # Base case\n",
    "        return n\n",
    "    return fib(n-1) + fib(n-2)  # Recursive case\n",
    "```\n",
    "\n",
    "---\n",
    "\n",
    "### Types of Recursion:\n",
    "\n",
    "* **Direct recursion** → function calls itself directly.\n",
    "* **Indirect recursion** → function A calls function B, and function B calls function A.\n",
    "\n",
    "---\n",
    "\n",
    "### Pros:\n",
    "\n",
    "* Makes code simpler and cleaner.\n",
    "* Useful for problems naturally defined in terms of smaller subproblems (tree traversals, divide and conquer, etc.).\n",
    "\n",
    "### Cons:\n",
    "\n",
    "* Uses extra memory (function call stack).\n",
    "* May be slower than iterative solutions if not optimized.\n",
    "\n",
    "---\n",
    "\n",
    "👉 In short: **Recursion is when a function solves a problem by calling itself until a base condition is reached.**"
   ]
  },
  {
   "cell_type": "code",
   "execution_count": 43,
   "id": "5666fbf5-3c3a-4187-8935-b19c5f8b946c",
   "metadata": {},
   "outputs": [
    {
     "ename": "RecursionError",
     "evalue": "maximum recursion depth exceeded",
     "output_type": "error",
     "traceback": [
      "\u001b[31m---------------------------------------------------------------------------\u001b[39m",
      "\u001b[31mRecursionError\u001b[39m                            Traceback (most recent call last)",
      "\u001b[36mCell\u001b[39m\u001b[36m \u001b[39m\u001b[32mIn[43]\u001b[39m\u001b[32m, line 8\u001b[39m\n\u001b[32m      5\u001b[39m     \u001b[38;5;28mglobals\u001b[39m()[\u001b[33m'\u001b[39m\u001b[33mcount\u001b[39m\u001b[33m'\u001b[39m] += \u001b[32m1\u001b[39m\n\u001b[32m      6\u001b[39m     greet()\n\u001b[32m----> \u001b[39m\u001b[32m8\u001b[39m \u001b[43mgreet\u001b[49m\u001b[43m(\u001b[49m\u001b[43m)\u001b[49m\n",
      "\u001b[36mCell\u001b[39m\u001b[36m \u001b[39m\u001b[32mIn[43]\u001b[39m\u001b[32m, line 6\u001b[39m, in \u001b[36mgreet\u001b[39m\u001b[34m()\u001b[39m\n\u001b[32m      4\u001b[39m \u001b[38;5;28;01mdef\u001b[39;00m\u001b[38;5;250m \u001b[39m\u001b[34mgreet\u001b[39m():\n\u001b[32m      5\u001b[39m     \u001b[38;5;28mglobals\u001b[39m()[\u001b[33m'\u001b[39m\u001b[33mcount\u001b[39m\u001b[33m'\u001b[39m] += \u001b[32m1\u001b[39m\n\u001b[32m----> \u001b[39m\u001b[32m6\u001b[39m     \u001b[43mgreet\u001b[49m\u001b[43m(\u001b[49m\u001b[43m)\u001b[49m\n",
      "\u001b[36mCell\u001b[39m\u001b[36m \u001b[39m\u001b[32mIn[43]\u001b[39m\u001b[32m, line 6\u001b[39m, in \u001b[36mgreet\u001b[39m\u001b[34m()\u001b[39m\n\u001b[32m      4\u001b[39m \u001b[38;5;28;01mdef\u001b[39;00m\u001b[38;5;250m \u001b[39m\u001b[34mgreet\u001b[39m():\n\u001b[32m      5\u001b[39m     \u001b[38;5;28mglobals\u001b[39m()[\u001b[33m'\u001b[39m\u001b[33mcount\u001b[39m\u001b[33m'\u001b[39m] += \u001b[32m1\u001b[39m\n\u001b[32m----> \u001b[39m\u001b[32m6\u001b[39m     \u001b[43mgreet\u001b[49m\u001b[43m(\u001b[49m\u001b[43m)\u001b[49m\n",
      "    \u001b[31m[... skipping similar frames: greet at line 6 (2974 times)]\u001b[39m\n",
      "\u001b[36mCell\u001b[39m\u001b[36m \u001b[39m\u001b[32mIn[43]\u001b[39m\u001b[32m, line 6\u001b[39m, in \u001b[36mgreet\u001b[39m\u001b[34m()\u001b[39m\n\u001b[32m      4\u001b[39m \u001b[38;5;28;01mdef\u001b[39;00m\u001b[38;5;250m \u001b[39m\u001b[34mgreet\u001b[39m():\n\u001b[32m      5\u001b[39m     \u001b[38;5;28mglobals\u001b[39m()[\u001b[33m'\u001b[39m\u001b[33mcount\u001b[39m\u001b[33m'\u001b[39m] += \u001b[32m1\u001b[39m\n\u001b[32m----> \u001b[39m\u001b[32m6\u001b[39m     \u001b[43mgreet\u001b[49m\u001b[43m(\u001b[49m\u001b[43m)\u001b[49m\n",
      "\u001b[31mRecursionError\u001b[39m: maximum recursion depth exceeded"
     ]
    }
   ],
   "source": [
    "# Infinite Recursion\n",
    "\n",
    "count = 0\n",
    "def greet():\n",
    "    globals()['count'] += 1\n",
    "    greet()\n",
    "\n",
    "greet()"
   ]
  },
  {
   "cell_type": "code",
   "execution_count": 44,
   "id": "ed55bfb7-a9e8-4c7c-b601-41ad3dda5d99",
   "metadata": {},
   "outputs": [
    {
     "data": {
      "text/plain": [
       "2977"
      ]
     },
     "execution_count": 44,
     "metadata": {},
     "output_type": "execute_result"
    }
   ],
   "source": [
    "count"
   ]
  },
  {
   "cell_type": "code",
   "execution_count": 46,
   "id": "f6a9f117-4939-4cdc-b52d-0e6dd11353a7",
   "metadata": {},
   "outputs": [
    {
     "name": "stdout",
     "output_type": "stream",
     "text": [
      "hello\n",
      "hello\n",
      "hello\n",
      "hello\n"
     ]
    }
   ],
   "source": [
    "### Head Recursion with Base Condition\n",
    "\n",
    "def greet(n=0):\n",
    "    if n==4:\n",
    "        return\n",
    "    print(\"hello\") # job\n",
    "    greet(n+1 # recursion call\n",
    "\n",
    "greet()"
   ]
  },
  {
   "cell_type": "code",
   "execution_count": 48,
   "id": "6be6b020-2ae5-48f4-8bc2-ecd6a8064acd",
   "metadata": {},
   "outputs": [
    {
     "name": "stdout",
     "output_type": "stream",
     "text": [
      "hello\n",
      "hello\n",
      "hello\n",
      "hello\n"
     ]
    }
   ],
   "source": [
    "### Tail Recursion with Base Condition (Back Tracking)\n",
    "\n",
    "def greet(n=0):\n",
    "    if n==4:\n",
    "        return\n",
    "    greet(n+1) # recursion call\n",
    "    print(\"hello\") # job\n",
    "\n",
    "greet()"
   ]
  },
  {
   "cell_type": "code",
   "execution_count": 50,
   "id": "9bf37e1a-9f0c-4e8c-83c1-8dc4e9c18c0d",
   "metadata": {},
   "outputs": [
    {
     "name": "stdout",
     "output_type": "stream",
     "text": [
      "1\n",
      "2\n",
      "3\n",
      "4\n",
      "5\n",
      "6\n",
      "7\n",
      "8\n",
      "9\n",
      "10\n",
      "11\n",
      "12\n",
      "13\n"
     ]
    }
   ],
   "source": [
    "# 1 to N using Head Recursion\n",
    "def to_num(i, n):\n",
    "    if i>n:\n",
    "        return\n",
    "    print(i)\n",
    "    to_num(i+1, n)\n",
    "\n",
    "to_num(1,13)"
   ]
  },
  {
   "cell_type": "code",
   "execution_count": 54,
   "id": "d8eac466-8936-43f9-8f19-32ac01ce07db",
   "metadata": {},
   "outputs": [
    {
     "name": "stdout",
     "output_type": "stream",
     "text": [
      "1\n",
      "2\n",
      "3\n",
      "4\n",
      "5\n",
      "6\n",
      "7\n",
      "8\n",
      "9\n",
      "10\n",
      "11\n",
      "12\n",
      "13\n"
     ]
    }
   ],
   "source": [
    "# 1 to N using Tail Recursion\n",
    "def to_num(i, n):\n",
    "    if i>n:\n",
    "        return\n",
    "    to_num(i, n-1)\n",
    "    print(n)\n",
    "\n",
    "to_num(1,13)"
   ]
  },
  {
   "cell_type": "code",
   "execution_count": 55,
   "id": "e4ad795c-03a6-43b8-b4fa-312fade10c12",
   "metadata": {},
   "outputs": [
    {
     "name": "stdout",
     "output_type": "stream",
     "text": [
      "13\n",
      "12\n",
      "11\n",
      "10\n",
      "9\n",
      "8\n",
      "7\n",
      "6\n",
      "5\n",
      "4\n",
      "3\n",
      "2\n",
      "1\n"
     ]
    }
   ],
   "source": [
    "# N to 1 using Head Recursion\n",
    "def to_num(n):\n",
    "    if n==0:\n",
    "        return\n",
    "    print(n)\n",
    "    to_num(n-1)\n",
    "\n",
    "to_num(13)"
   ]
  },
  {
   "cell_type": "code",
   "execution_count": 59,
   "id": "23ceb3f1-b191-48d1-a431-d10c7422afd8",
   "metadata": {},
   "outputs": [
    {
     "name": "stdout",
     "output_type": "stream",
     "text": [
      "13\n",
      "12\n",
      "11\n",
      "10\n",
      "9\n",
      "8\n",
      "7\n",
      "6\n",
      "5\n",
      "4\n",
      "3\n",
      "2\n",
      "1\n"
     ]
    }
   ],
   "source": [
    "# N to 1 using Tail Recursion\n",
    "def to_num(i, n):\n",
    "    if i>n:\n",
    "        return\n",
    "    to_num(i+1, n)\n",
    "    print(i)\n",
    "\n",
    "to_num(1,13)"
   ]
  },
  {
   "cell_type": "code",
   "execution_count": 60,
   "id": "e6a54947-39cf-4410-9461-e3d518aa6ec2",
   "metadata": {},
   "outputs": [
    {
     "data": {
      "text/plain": [
       "55"
      ]
     },
     "execution_count": 60,
     "metadata": {},
     "output_type": "execute_result"
    }
   ],
   "source": [
    "# sum of n natural no. using recursion\n",
    "def n_sum(n):\n",
    "    if n==1:\n",
    "        return 1\n",
    "    return n + n_sum(n-1)\n",
    "# TC: O(n)\n",
    "# SC: O(n) - Stack Space\n",
    "\n",
    "n_sum(10)"
   ]
  },
  {
   "cell_type": "code",
   "execution_count": 61,
   "id": "8066dedf-c2f5-4287-a285-11679d3cba94",
   "metadata": {},
   "outputs": [
    {
     "data": {
      "text/plain": [
       "5040"
      ]
     },
     "execution_count": 61,
     "metadata": {},
     "output_type": "execute_result"
    }
   ],
   "source": [
    "# factorial of a no. using recursion\n",
    "def factorial(n):\n",
    "    if n==1 or n==0:\n",
    "        return 1\n",
    "    return n * factorial(n-1)\n",
    "# TC: O(n)\n",
    "# SC: O(n) - Stack Space\n",
    "\n",
    "factorial(7)"
   ]
  },
  {
   "cell_type": "markdown",
   "id": "d91632d8-e9f6-4e8a-9022-db71f019063b",
   "metadata": {},
   "source": [
    "#### Reverse a sub-array from given array  using recursion\n",
    "\n",
    "- TC: O(n/2) ~ O(n)\n",
    "- SC: O(n/2) ~ O(n)"
   ]
  },
  {
   "cell_type": "code",
   "execution_count": 66,
   "id": "dfd3ac49-f249-4903-9e57-19ef4ffcf973",
   "metadata": {},
   "outputs": [],
   "source": [
    "def reverse(arr, left, right):\n",
    "    if left >= right:\n",
    "        return\n",
    "    arr[left], arr[right] = arr[right], arr[left]\n",
    "    reverse(arr, left+1, right-1)"
   ]
  },
  {
   "cell_type": "code",
   "execution_count": 65,
   "id": "0ee9588f-35aa-48fd-87ff-41d962309995",
   "metadata": {},
   "outputs": [
    {
     "name": "stdout",
     "output_type": "stream",
     "text": [
      "[1, 2, 9, 8, 7, 6, 5, 4, 3, 10, 11, 12, 13, 14, 15]\n"
     ]
    }
   ],
   "source": [
    "items = [1, 2, 3, 4, 5, 6, 7, 8, 9, 10, 11, 12, 13, 14, 15]\n",
    "reverse(items, 2, 8)\n",
    "print(items)"
   ]
  },
  {
   "cell_type": "markdown",
   "id": "2b8ec852-a326-4ddc-a18b-73c2028c04e4",
   "metadata": {},
   "source": [
    "#### Check if string is Pallindrome using recursion\n",
    "\n",
    "- TC: O(n/2) ~ O(n)\n",
    "- SC: O(n/2) ~ O(n)"
   ]
  },
  {
   "cell_type": "code",
   "execution_count": 78,
   "id": "814151f7-7919-4a9e-8014-42e41c70e350",
   "metadata": {},
   "outputs": [],
   "source": [
    "def pallindrome(s, left, right):\n",
    "    if left >= right:\n",
    "        return True\n",
    "    elif s[left] != s[right]:\n",
    "        return False\n",
    "    \n",
    "     \n",
    "    return pallindrome(s, left+1, right-1)"
   ]
  },
  {
   "cell_type": "code",
   "execution_count": 80,
   "id": "eb3114bc-5ac6-4749-b2d3-0cccf0d415ca",
   "metadata": {},
   "outputs": [
    {
     "data": {
      "text/plain": [
       "True"
      ]
     },
     "execution_count": 80,
     "metadata": {},
     "output_type": "execute_result"
    }
   ],
   "source": [
    "pallindrome('mom', 0, 2)"
   ]
  },
  {
   "cell_type": "code",
   "execution_count": 81,
   "id": "40b2209f-daec-466a-b2e4-5577431b150d",
   "metadata": {},
   "outputs": [
    {
     "data": {
      "text/plain": [
       "True"
      ]
     },
     "execution_count": 81,
     "metadata": {},
     "output_type": "execute_result"
    }
   ],
   "source": [
    "pallindrome('nitin', 0, 4)"
   ]
  },
  {
   "cell_type": "code",
   "execution_count": 82,
   "id": "714783e3-a6f5-4213-a5f8-5cc424ebc596",
   "metadata": {},
   "outputs": [
    {
     "data": {
      "text/plain": [
       "False"
      ]
     },
     "execution_count": 82,
     "metadata": {},
     "output_type": "execute_result"
    }
   ],
   "source": [
    "pallindrome('nittn', 0, 4)"
   ]
  },
  {
   "cell_type": "code",
   "execution_count": 83,
   "id": "f1fad47a-9964-4db3-9ff2-88e5d1368dfa",
   "metadata": {},
   "outputs": [],
   "source": [
    "# using while loop\n",
    "\n",
    "# TC: O(n/2) ~ O(n)\n",
    "# SC: O(1)\n",
    "\n",
    "def pallindrome(s):\n",
    "    left, right = 0, len(s)-1\n",
    "    while left < right:\n",
    "        if s[left] != s[right]:\n",
    "            return False\n",
    "        left+=1\n",
    "        right-=1\n",
    "    \n",
    "    return True\n",
    "     "
   ]
  },
  {
   "cell_type": "code",
   "execution_count": 84,
   "id": "ef76dfe6-3a32-4ffc-a4fc-1769f5a871f6",
   "metadata": {},
   "outputs": [
    {
     "data": {
      "text/plain": [
       "False"
      ]
     },
     "execution_count": 84,
     "metadata": {},
     "output_type": "execute_result"
    }
   ],
   "source": [
    "pallindrome('yes')"
   ]
  },
  {
   "cell_type": "code",
   "execution_count": 85,
   "id": "0c99159d-5759-4a86-aa3e-803cc2abd97b",
   "metadata": {},
   "outputs": [
    {
     "data": {
      "text/plain": [
       "True"
      ]
     },
     "execution_count": 85,
     "metadata": {},
     "output_type": "execute_result"
    }
   ],
   "source": [
    "pallindrome('oppo')"
   ]
  },
  {
   "cell_type": "markdown",
   "id": "d48eecaf-960e-4b6b-8b5b-935353d032d2",
   "metadata": {},
   "source": [
    "#### Fibonnaci no. with Recursion\n",
    "\n",
    "- TC: O(2^n)\n",
    "- SC: O(2^n)"
   ]
  },
  {
   "cell_type": "code",
   "execution_count": 1,
   "id": "98a0ba3a-3f37-4101-a0cf-c09727813d42",
   "metadata": {},
   "outputs": [],
   "source": [
    "def fibonacci(n):\n",
    "    if n == 0 or n == 1:\n",
    "        return n\n",
    "    return fibonacci(n-1) + fibonacci(n-2)"
   ]
  },
  {
   "cell_type": "code",
   "execution_count": 10,
   "id": "1094f3e7-de6f-4cbb-b02e-ffc17d30ebe3",
   "metadata": {},
   "outputs": [
    {
     "name": "stdout",
     "output_type": "stream",
     "text": [
      "0 1 1 2 3 5 8 13 21 34 55 89 144 233 377 "
     ]
    }
   ],
   "source": [
    "for i in range(15):\n",
    "    print(fibonacci(i), end=' ')"
   ]
  },
  {
   "cell_type": "markdown",
   "id": "0337bceb-532b-4243-952d-cce63f9b52be",
   "metadata": {},
   "source": [
    "## Sorting Algorithms\n",
    "\n",
    "Sorting is the process of arranging a collection of items or data into a specific order, such as ascending or descending numerical order, or alphabetical order for text. It organizes data logically based on certain attributes, making it easier to search, analyze, and use the information more effectively in various applications like databases and dictionaries.\n",
    "##### Key Aspects of Sorting \n",
    "\n",
    "-  Order: The arrangement can be ascending (smallest to largest) or descending (largest to smallest) for numbers, or alphabetical (A-Z) for text.  \n",
    "-  Criteria: Sorting uses a specific criterion or \"key\" to determine the order of elements. For example, sorting a list of students by height or weight.\n",
    "-  Efficiency: Sorting is a fundamental process in computer science, used to optimize other algorithms like searching.\n",
    "\n",
    "##### Why Sorting is Important \n",
    "\n",
    "-  Faster Searching: A dictionary is sorted alphabetically, which makes it easy to find a word quickly, a task that would be very tedious in an unsorted dictionary.\n",
    "-  Data Analysis: Ordering data helps in producing meaningful graphs and reports to understand trends, like sales by calendar month.\n",
    "-  Problem Simplification: Sorting can simplify complex problems and create a structured way to handle data.\n",
    "\n",
    "##### Real-World Examples \n",
    "\n",
    "-  Words in a dictionary are sorted alphabetically.\n",
    "-  The seats in an examination hall can be ordered by candidates' roll numbers.\n",
    "-  Separating silverware by type or organizing groceries by category are examples of everyday sorting.\n"
   ]
  },
  {
   "cell_type": "markdown",
   "id": "78de3a16-d4d4-404d-b102-07a0ef51fa93",
   "metadata": {},
   "source": [
    "### Slection Sort\n",
    "\n",
    "- TC: O(n*(n+1)/2) ~ O(n^2)\n",
    "- SC: O(1)"
   ]
  },
  {
   "cell_type": "code",
   "execution_count": 12,
   "id": "93297b25-b214-4ddb-aa51-5f81b34c09cd",
   "metadata": {},
   "outputs": [],
   "source": [
    "def selection_sort(arr):\n",
    "    for i in range(len(arr)):\n",
    "        min_index = i\n",
    "        for j in range(i+1, len(arr)):\n",
    "            if arr[min_index]>arr[j]:\n",
    "                min_index = j\n",
    "        # swap elements\n",
    "        arr[i], arr[min_index] = arr[min_index], arr[i]"
   ]
  },
  {
   "cell_type": "code",
   "execution_count": 15,
   "id": "ce01dc2c-6220-4e78-a67f-af4920c000b4",
   "metadata": {},
   "outputs": [
    {
     "name": "stdout",
     "output_type": "stream",
     "text": [
      "[-1, 0, 1, 2, 3, 4, 5, 8, 9, 14]\n"
     ]
    }
   ],
   "source": [
    "s = [4, 8, -1, 2, 0, 14, 5, 3, 1, 9]\n",
    "selection_sort(s)\n",
    "print(s)"
   ]
  },
  {
   "cell_type": "code",
   "execution_count": null,
   "id": "da18ef86-a018-4611-9ad8-b557dd0f05b2",
   "metadata": {},
   "outputs": [],
   "source": []
  },
  {
   "cell_type": "code",
   "execution_count": 19,
   "id": "2392803e-27e0-4d66-b8b7-821bfba33ac3",
   "metadata": {},
   "outputs": [],
   "source": [
    "def selection_sort_descending(arr):\n",
    "    n = len(arr)\n",
    "    for i in range(n):\n",
    "        max_index = i\n",
    "        for j in range(i+1, n):\n",
    "            if arr[max_index]<arr[j]:\n",
    "                max_index = j\n",
    "        # swap elements\n",
    "        arr[i], arr[max_index] = arr[max_index], arr[i]"
   ]
  },
  {
   "cell_type": "code",
   "execution_count": 20,
   "id": "7d1f4233-e835-4c47-9ab6-826fb62286ce",
   "metadata": {},
   "outputs": [
    {
     "name": "stdout",
     "output_type": "stream",
     "text": [
      "[14, 9, 8, 5, 4, 3, 2, 1, 0, -1]\n"
     ]
    }
   ],
   "source": [
    "s = [4, 8, -1, 2, 0, 14, 5, 3, 1, 9]\n",
    "selection_sort_descending(s)\n",
    "print(s)"
   ]
  },
  {
   "cell_type": "markdown",
   "id": "39150640-3365-4a97-8248-cdf39c53212f",
   "metadata": {},
   "source": [
    "### Bubble Sort\n",
    "\n",
    "- TC: O(n*(n+1)/2) ~ O(n^2)\n",
    "- SC: O(1)"
   ]
  },
  {
   "cell_type": "code",
   "execution_count": 27,
   "id": "d09d0cc8-8999-4762-bf17-721f40a1b78d",
   "metadata": {},
   "outputs": [],
   "source": [
    "def bubble_sort(arr):\n",
    "    n = len(arr)-1\n",
    "    for i in range(n, -1, -1):\n",
    "        for j in range(0, i):\n",
    "            print(arr)\n",
    "            if arr[j] > arr[j+1]:\n",
    "                arr[j], arr[j+1] = arr[j+1], arr[j]\n",
    "        print()"
   ]
  },
  {
   "cell_type": "code",
   "execution_count": 28,
   "id": "ce608376-62e7-4ab7-b892-c0cf3e6e1eea",
   "metadata": {},
   "outputs": [
    {
     "name": "stdout",
     "output_type": "stream",
     "text": [
      "[4, 8, -1, 2, 0, 14, 5, 3, 1, 9]\n",
      "[4, 8, -1, 2, 0, 14, 5, 3, 1, 9]\n",
      "[4, -1, 8, 2, 0, 14, 5, 3, 1, 9]\n",
      "[4, -1, 2, 8, 0, 14, 5, 3, 1, 9]\n",
      "[4, -1, 2, 0, 8, 14, 5, 3, 1, 9]\n",
      "[4, -1, 2, 0, 8, 14, 5, 3, 1, 9]\n",
      "[4, -1, 2, 0, 8, 5, 14, 3, 1, 9]\n",
      "[4, -1, 2, 0, 8, 5, 3, 14, 1, 9]\n",
      "[4, -1, 2, 0, 8, 5, 3, 1, 14, 9]\n",
      "\n",
      "[4, -1, 2, 0, 8, 5, 3, 1, 9, 14]\n",
      "[-1, 4, 2, 0, 8, 5, 3, 1, 9, 14]\n",
      "[-1, 2, 4, 0, 8, 5, 3, 1, 9, 14]\n",
      "[-1, 2, 0, 4, 8, 5, 3, 1, 9, 14]\n",
      "[-1, 2, 0, 4, 8, 5, 3, 1, 9, 14]\n",
      "[-1, 2, 0, 4, 5, 8, 3, 1, 9, 14]\n",
      "[-1, 2, 0, 4, 5, 3, 8, 1, 9, 14]\n",
      "[-1, 2, 0, 4, 5, 3, 1, 8, 9, 14]\n",
      "\n",
      "[-1, 2, 0, 4, 5, 3, 1, 8, 9, 14]\n",
      "[-1, 2, 0, 4, 5, 3, 1, 8, 9, 14]\n",
      "[-1, 0, 2, 4, 5, 3, 1, 8, 9, 14]\n",
      "[-1, 0, 2, 4, 5, 3, 1, 8, 9, 14]\n",
      "[-1, 0, 2, 4, 5, 3, 1, 8, 9, 14]\n",
      "[-1, 0, 2, 4, 3, 5, 1, 8, 9, 14]\n",
      "[-1, 0, 2, 4, 3, 1, 5, 8, 9, 14]\n",
      "\n",
      "[-1, 0, 2, 4, 3, 1, 5, 8, 9, 14]\n",
      "[-1, 0, 2, 4, 3, 1, 5, 8, 9, 14]\n",
      "[-1, 0, 2, 4, 3, 1, 5, 8, 9, 14]\n",
      "[-1, 0, 2, 4, 3, 1, 5, 8, 9, 14]\n",
      "[-1, 0, 2, 3, 4, 1, 5, 8, 9, 14]\n",
      "[-1, 0, 2, 3, 1, 4, 5, 8, 9, 14]\n",
      "\n",
      "[-1, 0, 2, 3, 1, 4, 5, 8, 9, 14]\n",
      "[-1, 0, 2, 3, 1, 4, 5, 8, 9, 14]\n",
      "[-1, 0, 2, 3, 1, 4, 5, 8, 9, 14]\n",
      "[-1, 0, 2, 3, 1, 4, 5, 8, 9, 14]\n",
      "[-1, 0, 2, 1, 3, 4, 5, 8, 9, 14]\n",
      "\n",
      "[-1, 0, 2, 1, 3, 4, 5, 8, 9, 14]\n",
      "[-1, 0, 2, 1, 3, 4, 5, 8, 9, 14]\n",
      "[-1, 0, 2, 1, 3, 4, 5, 8, 9, 14]\n",
      "[-1, 0, 1, 2, 3, 4, 5, 8, 9, 14]\n",
      "\n",
      "[-1, 0, 1, 2, 3, 4, 5, 8, 9, 14]\n",
      "[-1, 0, 1, 2, 3, 4, 5, 8, 9, 14]\n",
      "[-1, 0, 1, 2, 3, 4, 5, 8, 9, 14]\n",
      "\n",
      "[-1, 0, 1, 2, 3, 4, 5, 8, 9, 14]\n",
      "[-1, 0, 1, 2, 3, 4, 5, 8, 9, 14]\n",
      "\n",
      "[-1, 0, 1, 2, 3, 4, 5, 8, 9, 14]\n",
      "\n",
      "\n",
      "[-1, 0, 1, 2, 3, 4, 5, 8, 9, 14]\n"
     ]
    }
   ],
   "source": [
    "s = [4, 8, -1, 2, 0, 14, 5, 3, 1, 9]\n",
    "bubble_sort(s)\n",
    "print(s)"
   ]
  },
  {
   "cell_type": "code",
   "execution_count": 29,
   "id": "1d3724f1-9d50-4df3-8d4d-92bcf2f313b3",
   "metadata": {},
   "outputs": [],
   "source": [
    "#### optimizing bubble sort\n",
    "# Bestcase TC: W(n)\n",
    "def bubble_sort(arr):\n",
    "    n = len(arr)-1\n",
    "    for i in range(n, -1, -1):\n",
    "        is_swap = False\n",
    "        for j in range(0, i):\n",
    "            print(arr)\n",
    "            if arr[j] > arr[j+1]:\n",
    "                arr[j], arr[j+1] = arr[j+1], arr[j]\n",
    "                is_swap = True\n",
    "        if not is_swap:\n",
    "            print(arr)\n",
    "            return\n",
    "        print()"
   ]
  },
  {
   "cell_type": "code",
   "execution_count": 30,
   "id": "59d6c2ac-c244-4915-a29d-1066bfae9e30",
   "metadata": {},
   "outputs": [
    {
     "name": "stdout",
     "output_type": "stream",
     "text": [
      "[4, 8, -1, 2, 0, 14, 5, 3, 1, 9]\n",
      "[4, 8, -1, 2, 0, 14, 5, 3, 1, 9]\n",
      "[4, -1, 8, 2, 0, 14, 5, 3, 1, 9]\n",
      "[4, -1, 2, 8, 0, 14, 5, 3, 1, 9]\n",
      "[4, -1, 2, 0, 8, 14, 5, 3, 1, 9]\n",
      "[4, -1, 2, 0, 8, 14, 5, 3, 1, 9]\n",
      "[4, -1, 2, 0, 8, 5, 14, 3, 1, 9]\n",
      "[4, -1, 2, 0, 8, 5, 3, 14, 1, 9]\n",
      "[4, -1, 2, 0, 8, 5, 3, 1, 14, 9]\n",
      "\n",
      "[4, -1, 2, 0, 8, 5, 3, 1, 9, 14]\n",
      "[-1, 4, 2, 0, 8, 5, 3, 1, 9, 14]\n",
      "[-1, 2, 4, 0, 8, 5, 3, 1, 9, 14]\n",
      "[-1, 2, 0, 4, 8, 5, 3, 1, 9, 14]\n",
      "[-1, 2, 0, 4, 8, 5, 3, 1, 9, 14]\n",
      "[-1, 2, 0, 4, 5, 8, 3, 1, 9, 14]\n",
      "[-1, 2, 0, 4, 5, 3, 8, 1, 9, 14]\n",
      "[-1, 2, 0, 4, 5, 3, 1, 8, 9, 14]\n",
      "\n",
      "[-1, 2, 0, 4, 5, 3, 1, 8, 9, 14]\n",
      "[-1, 2, 0, 4, 5, 3, 1, 8, 9, 14]\n",
      "[-1, 0, 2, 4, 5, 3, 1, 8, 9, 14]\n",
      "[-1, 0, 2, 4, 5, 3, 1, 8, 9, 14]\n",
      "[-1, 0, 2, 4, 5, 3, 1, 8, 9, 14]\n",
      "[-1, 0, 2, 4, 3, 5, 1, 8, 9, 14]\n",
      "[-1, 0, 2, 4, 3, 1, 5, 8, 9, 14]\n",
      "\n",
      "[-1, 0, 2, 4, 3, 1, 5, 8, 9, 14]\n",
      "[-1, 0, 2, 4, 3, 1, 5, 8, 9, 14]\n",
      "[-1, 0, 2, 4, 3, 1, 5, 8, 9, 14]\n",
      "[-1, 0, 2, 4, 3, 1, 5, 8, 9, 14]\n",
      "[-1, 0, 2, 3, 4, 1, 5, 8, 9, 14]\n",
      "[-1, 0, 2, 3, 1, 4, 5, 8, 9, 14]\n",
      "\n",
      "[-1, 0, 2, 3, 1, 4, 5, 8, 9, 14]\n",
      "[-1, 0, 2, 3, 1, 4, 5, 8, 9, 14]\n",
      "[-1, 0, 2, 3, 1, 4, 5, 8, 9, 14]\n",
      "[-1, 0, 2, 3, 1, 4, 5, 8, 9, 14]\n",
      "[-1, 0, 2, 1, 3, 4, 5, 8, 9, 14]\n",
      "\n",
      "[-1, 0, 2, 1, 3, 4, 5, 8, 9, 14]\n",
      "[-1, 0, 2, 1, 3, 4, 5, 8, 9, 14]\n",
      "[-1, 0, 2, 1, 3, 4, 5, 8, 9, 14]\n",
      "[-1, 0, 1, 2, 3, 4, 5, 8, 9, 14]\n",
      "\n",
      "[-1, 0, 1, 2, 3, 4, 5, 8, 9, 14]\n",
      "[-1, 0, 1, 2, 3, 4, 5, 8, 9, 14]\n",
      "[-1, 0, 1, 2, 3, 4, 5, 8, 9, 14]\n",
      "[-1, 0, 1, 2, 3, 4, 5, 8, 9, 14]\n",
      "[-1, 0, 1, 2, 3, 4, 5, 8, 9, 14]\n"
     ]
    }
   ],
   "source": [
    "s = [4, 8, -1, 2, 0, 14, 5, 3, 1, 9]\n",
    "bubble_sort(s)\n",
    "print(s)"
   ]
  },
  {
   "cell_type": "markdown",
   "id": "127f4777-bfc1-40cd-a933-ca1c7651e28d",
   "metadata": {},
   "source": [
    "#### Insertion Sort\n",
    "\n",
    "- TC: O(n*(n+1)/2) ~ O(n^2) | W(n)\n",
    "- SC: O(1)"
   ]
  },
  {
   "cell_type": "code",
   "execution_count": 55,
   "id": "243542e7-12c6-40b3-b6fb-63281e26463a",
   "metadata": {},
   "outputs": [],
   "source": [
    "def insertion_sort(arr):\n",
    "    n = len(arr)\n",
    "    for i in range(1,n):\n",
    "        key = arr[i]\n",
    "        j = i-1\n",
    "        while j>=0 and arr[j]>key:\n",
    "            arr[j+1] = arr[j]\n",
    "            j -= 1\n",
    "            print(arr)\n",
    "        arr[j+1] = key"
   ]
  },
  {
   "cell_type": "code",
   "execution_count": 57,
   "id": "7ec6f638-6760-46f1-8806-d47a39999adf",
   "metadata": {},
   "outputs": [
    {
     "name": "stdout",
     "output_type": "stream",
     "text": [
      "[4, 8, 8, 2, 0, 14, 5, 3, 1, 9]\n",
      "[4, 4, 8, 2, 0, 14, 5, 3, 1, 9]\n",
      "[-1, 4, 8, 8, 0, 14, 5, 3, 1, 9]\n",
      "[-1, 4, 4, 8, 0, 14, 5, 3, 1, 9]\n",
      "[-1, 2, 4, 8, 8, 14, 5, 3, 1, 9]\n",
      "[-1, 2, 4, 4, 8, 14, 5, 3, 1, 9]\n",
      "[-1, 2, 2, 4, 8, 14, 5, 3, 1, 9]\n",
      "[-1, 0, 2, 4, 8, 14, 14, 3, 1, 9]\n",
      "[-1, 0, 2, 4, 8, 8, 14, 3, 1, 9]\n",
      "[-1, 0, 2, 4, 5, 8, 14, 14, 1, 9]\n",
      "[-1, 0, 2, 4, 5, 8, 8, 14, 1, 9]\n",
      "[-1, 0, 2, 4, 5, 5, 8, 14, 1, 9]\n",
      "[-1, 0, 2, 4, 4, 5, 8, 14, 1, 9]\n",
      "[-1, 0, 2, 3, 4, 5, 8, 14, 14, 9]\n",
      "[-1, 0, 2, 3, 4, 5, 8, 8, 14, 9]\n",
      "[-1, 0, 2, 3, 4, 5, 5, 8, 14, 9]\n",
      "[-1, 0, 2, 3, 4, 4, 5, 8, 14, 9]\n",
      "[-1, 0, 2, 3, 3, 4, 5, 8, 14, 9]\n",
      "[-1, 0, 2, 2, 3, 4, 5, 8, 14, 9]\n",
      "[-1, 0, 1, 2, 3, 4, 5, 8, 14, 14]\n",
      "[-1, 0, 1, 2, 3, 4, 5, 8, 9, 14]\n"
     ]
    }
   ],
   "source": [
    "s = [4, 8, -1, 2, 0, 14, 5, 3, 1, 9]\n",
    "insertion_sort(s)\n",
    "print(s)"
   ]
  },
  {
   "cell_type": "markdown",
   "id": "ba27abae-3e62-4cfc-9918-eabada36aa21",
   "metadata": {},
   "source": [
    "### Merge Sort\n",
    "\n",
    "- TC: \n",
    "- SC: "
   ]
  },
  {
   "cell_type": "code",
   "execution_count": 79,
   "id": "fb630f71-2b78-4f21-892b-e97bb632d522",
   "metadata": {},
   "outputs": [],
   "source": [
    "def merge_sorted_array(left, right):\n",
    "    i, j = 0, 0\n",
    "    m, n = len(left), len(right)\n",
    "    result = []\n",
    "    while i<m and j<n:\n",
    "        if i < m and left[i] <= right[j]:\n",
    "            result.append(left[i])\n",
    "            i += 1\n",
    "        else:\n",
    "            result.append(right[j])\n",
    "            j += 1\n",
    "        # print(result)\n",
    "    if i<m:\n",
    "        while i<m:\n",
    "            result.append(left[i])\n",
    "            i+=1\n",
    "            # print(result)\n",
    "    elif j<n:\n",
    "        while j<n:\n",
    "            result.append(right[j])\n",
    "            j+=1\n",
    "            # print(result)\n",
    "    return result"
   ]
  },
  {
   "cell_type": "code",
   "execution_count": 80,
   "id": "d746a066-e73a-4293-86e6-e68c8f7b6011",
   "metadata": {},
   "outputs": [
    {
     "data": {
      "text/plain": [
       "[1, 2, 3, 4, 5, 9, 12, 20, 25, 102]"
      ]
     },
     "execution_count": 80,
     "metadata": {},
     "output_type": "execute_result"
    }
   ],
   "source": [
    "merge_sorted_array([3,4,20, 25, 102], [1,2,5,9,12])"
   ]
  },
  {
   "cell_type": "code",
   "execution_count": 81,
   "id": "c30aeee8-b798-462c-801b-2dea91f82384",
   "metadata": {},
   "outputs": [],
   "source": [
    "def merge_sort(arr):\n",
    "    if len(arr)==1:\n",
    "        return arr\n",
    "    mid = len(arr)//2\n",
    "    left_arr = arr[:mid]\n",
    "    right_arr = arr[mid:]\n",
    "    left = merge_sort(left_arr)\n",
    "    right = merge_sort(right_arr)\n",
    "    return merge_sorted_array(left, right)"
   ]
  },
  {
   "cell_type": "code",
   "execution_count": 82,
   "id": "dd74f275-deb6-44ca-b870-4d04766ef969",
   "metadata": {},
   "outputs": [
    {
     "name": "stdout",
     "output_type": "stream",
     "text": [
      "result:  [-1, 0, 1, 2, 3, 4, 5, 8, 9, 14]\n"
     ]
    }
   ],
   "source": [
    "s = [4, 8, -1, 2, 0, 14, 5, 3, 1, 9]\n",
    "result = merge_sort(s)\n",
    "print(\"result: \", result)"
   ]
  },
  {
   "cell_type": "markdown",
   "id": "bdd87f51-391e-492e-a1e5-6ee1f5102b3e",
   "metadata": {},
   "source": [
    "### Quick Sort"
   ]
  },
  {
   "cell_type": "markdown",
   "id": "66bd5011-ca34-4856-a967-87b447b58887",
   "metadata": {},
   "source": [
    "- TC: W(nlogn), @(nlogn), O(n^2)\n",
    "- SC: O(1)"
   ]
  },
  {
   "cell_type": "code",
   "execution_count": 28,
   "id": "74508e03-d1bc-447d-9393-5f91795ac0fe",
   "metadata": {},
   "outputs": [],
   "source": [
    "def partition(arr, low, high):\n",
    "    i, j = low, high\n",
    "    pivot = arr[low]\n",
    "    while i<j:\n",
    "        while arr[i] <= pivot and i < high:\n",
    "            i += 1\n",
    "        while arr[j] > pivot and j > low:\n",
    "            j -= 1\n",
    "        if i<j:\n",
    "            arr[i], arr[j] = arr[j], arr[i]\n",
    "    arr[low], arr[j] = arr[j], pivot\n",
    "    return j"
   ]
  },
  {
   "cell_type": "code",
   "execution_count": 30,
   "id": "dceb0f36-c3a9-461b-a281-778562f2bece",
   "metadata": {},
   "outputs": [
    {
     "data": {
      "text/plain": [
       "(3, [3, 1, 2, 4, 6, 7, 8])"
      ]
     },
     "execution_count": 30,
     "metadata": {},
     "output_type": "execute_result"
    }
   ],
   "source": [
    "x = [4,1,7,6,3,2,8]\n",
    "partition(x,0, 6), x"
   ]
  },
  {
   "cell_type": "code",
   "execution_count": 31,
   "id": "952f8b7e-b2fd-4cfc-aa66-a15982cdd42b",
   "metadata": {},
   "outputs": [],
   "source": [
    "def quick_sort(arr, low, high):\n",
    "    if low<high:\n",
    "        pivot_idx = partition(arr, low, high)\n",
    "        quick_sort(arr, low, pivot_idx-1)\n",
    "        quick_sort(arr, pivot_idx+1, high)\n",
    "        "
   ]
  },
  {
   "cell_type": "code",
   "execution_count": 34,
   "id": "0f89b97a-e555-4b9e-94a9-a6950c0e2b9d",
   "metadata": {},
   "outputs": [
    {
     "data": {
      "text/plain": [
       "[1, 2, 3, 4, 6, 7, 8]"
      ]
     },
     "execution_count": 34,
     "metadata": {},
     "output_type": "execute_result"
    }
   ],
   "source": [
    "x = [4,1,7,6,3,2,8]\n",
    "quick_sort(x,0, 6)\n",
    "x"
   ]
  },
  {
   "cell_type": "code",
   "execution_count": null,
   "id": "2d16c885-9b26-4caa-a671-781f51d5ffca",
   "metadata": {},
   "outputs": [],
   "source": []
  }
 ],
 "metadata": {
  "kernelspec": {
   "display_name": "Python 3 (ipykernel)",
   "language": "python",
   "name": "python3"
  },
  "language_info": {
   "codemirror_mode": {
    "name": "ipython",
    "version": 3
   },
   "file_extension": ".py",
   "mimetype": "text/x-python",
   "name": "python",
   "nbconvert_exporter": "python",
   "pygments_lexer": "ipython3",
   "version": "3.12.1"
  }
 },
 "nbformat": 4,
 "nbformat_minor": 5
}
