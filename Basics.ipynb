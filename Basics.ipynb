{
 "cells": [
  {
   "cell_type": "markdown",
   "id": "d180d73a-8c67-4020-b322-dc03b20c9485",
   "metadata": {},
   "source": [
    "### Count the Digits"
   ]
  },
  {
   "cell_type": "code",
   "execution_count": 2,
   "id": "67b77547-4bbc-4552-aa2c-33107d01733c",
   "metadata": {},
   "outputs": [
    {
     "name": "stdin",
     "output_type": "stream",
     "text": [
      " 14520\n"
     ]
    },
    {
     "name": "stdout",
     "output_type": "stream",
     "text": [
      "5"
     ]
    }
   ],
   "source": [
    "n = int(input())\n",
    "num = n\n",
    "count = 0\n",
    "\n",
    "while num>0:\n",
    "    num //= 10\n",
    "    count+=1\n",
    "\n",
    "print(count, end=\"\")"
   ]
  },
  {
   "cell_type": "code",
   "execution_count": null,
   "id": "dd9fd606-61ad-4e8d-8c6c-3c5ef7ff1ee3",
   "metadata": {},
   "outputs": [],
   "source": []
  }
 ],
 "metadata": {
  "kernelspec": {
   "display_name": "Python 3 (ipykernel)",
   "language": "python",
   "name": "python3"
  },
  "language_info": {
   "codemirror_mode": {
    "name": "ipython",
    "version": 3
   },
   "file_extension": ".py",
   "mimetype": "text/x-python",
   "name": "python",
   "nbconvert_exporter": "python",
   "pygments_lexer": "ipython3",
   "version": "3.12.1"
  }
 },
 "nbformat": 4,
 "nbformat_minor": 5
}
