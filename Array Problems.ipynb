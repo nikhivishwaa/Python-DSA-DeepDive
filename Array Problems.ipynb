{
 "cells": [
  {
   "cell_type": "markdown",
   "id": "359c7be9-3d99-4650-8cc8-e5c91431b370",
   "metadata": {},
   "source": [
    "### Largest Elelement of the array\n",
    "\n",
    "- TC: O(n)\n",
    "- SC: O(1)"
   ]
  },
  {
   "cell_type": "code",
   "execution_count": 3,
   "id": "fab4ba21-9eb1-43c8-a54f-325f3ef5fa26",
   "metadata": {},
   "outputs": [],
   "source": [
    "def largest(arr):\n",
    "    max_item = arr[0]\n",
    "    for i in range(1,len(arr)):\n",
    "        if max_item < arr[i]:\n",
    "            max_item = arr[i]\n",
    "    return max_item"
   ]
  },
  {
   "cell_type": "code",
   "execution_count": 4,
   "id": "10bc8f5c-6792-45c6-9133-0060224667d5",
   "metadata": {},
   "outputs": [
    {
     "data": {
      "text/plain": [
       "96"
      ]
     },
     "execution_count": 4,
     "metadata": {},
     "output_type": "execute_result"
    }
   ],
   "source": [
    "n = [50, 1, -5, 1, 24, 12, 11, 96, 41, 20]\n",
    "largest(n)"
   ]
  },
  {
   "cell_type": "code",
   "execution_count": 7,
   "id": "8889886c-855d-49ea-b76e-7f2c1b98126f",
   "metadata": {},
   "outputs": [],
   "source": [
    "def largest(arr):\n",
    "    max_item = float('-inf')\n",
    "    for i in arr:\n",
    "        if max_item < i:\n",
    "            max_item = i\n",
    "    return max_item"
   ]
  },
  {
   "cell_type": "code",
   "execution_count": 8,
   "id": "0a431275-1ec9-4bd2-be5b-bad732648a2b",
   "metadata": {},
   "outputs": [
    {
     "data": {
      "text/plain": [
       "96"
      ]
     },
     "execution_count": 8,
     "metadata": {},
     "output_type": "execute_result"
    }
   ],
   "source": [
    "n = [50, 1, -5, 1, 24, 12, 11, 96, 41, 20]\n",
    "largest(n)"
   ]
  },
  {
   "cell_type": "markdown",
   "id": "897459a5-c939-4736-b802-c08ad9be6e5e",
   "metadata": {},
   "source": [
    "### Second Largest Element\n",
    "\n",
    "##### Brute Force Solution\n",
    "- TC: O(nlogn)\n",
    "- SC: O(1)"
   ]
  },
  {
   "cell_type": "code",
   "execution_count": 9,
   "id": "f8807c91-478a-4f66-b4fe-f04e785bff0a",
   "metadata": {},
   "outputs": [],
   "source": [
    "def second_largest(arr):\n",
    "    arr.sort()\n",
    "    return arr[-2]"
   ]
  },
  {
   "cell_type": "code",
   "execution_count": 10,
   "id": "ddf11718-4348-4001-a115-18c9629bdf37",
   "metadata": {},
   "outputs": [
    {
     "data": {
      "text/plain": [
       "50"
      ]
     },
     "execution_count": 10,
     "metadata": {},
     "output_type": "execute_result"
    }
   ],
   "source": [
    "second_largest(n.copy())"
   ]
  },
  {
   "cell_type": "markdown",
   "id": "799dde11-6212-40c4-8d64-9b94be4a066b",
   "metadata": {},
   "source": [
    "#### Better Solution\n",
    "- TC: O(2n) ~ O(n)\n",
    "- SC: O(1)"
   ]
  },
  {
   "cell_type": "code",
   "execution_count": 13,
   "id": "8fec57fc-fa26-4441-978a-9ab3e53a9ac4",
   "metadata": {},
   "outputs": [],
   "source": [
    "def second_largest(arr):\n",
    "    max_item = largest(arr)\n",
    "    second_largest = float('-inf')\n",
    "\n",
    "    for i in arr:\n",
    "        if i > second_largest and i < max_item:\n",
    "            second_largest = i\n",
    "    return second_largest"
   ]
  },
  {
   "cell_type": "code",
   "execution_count": 15,
   "id": "20e1b4a3-61c3-4680-8397-7e4451113404",
   "metadata": {},
   "outputs": [
    {
     "data": {
      "text/plain": [
       "50"
      ]
     },
     "execution_count": 15,
     "metadata": {},
     "output_type": "execute_result"
    }
   ],
   "source": [
    "second_largest(n)"
   ]
  },
  {
   "cell_type": "markdown",
   "id": "181b5037-1250-4147-87df-3f912cc08ffa",
   "metadata": {},
   "source": [
    "#### Optimal Solution\n",
    "- TC: O(n)\n",
    "- SC: O(1)"
   ]
  },
  {
   "cell_type": "code",
   "execution_count": 22,
   "id": "b08d9eb6-1fb0-4211-80a7-bf9a46962827",
   "metadata": {},
   "outputs": [],
   "source": [
    "def second_largest(arr):\n",
    "    max_item = float('-inf')\n",
    "    second_largest = float('-inf')\n",
    "\n",
    "    for i in arr:\n",
    "        if i > max_item:\n",
    "            second_largest = max_item\n",
    "            max_item = i\n",
    "        elif i > second_largest and i < max_item:\n",
    "            second_largest = i\n",
    "    return second_largest"
   ]
  },
  {
   "cell_type": "code",
   "execution_count": 23,
   "id": "97801a86-ab5a-431f-89c8-3952c9b34672",
   "metadata": {},
   "outputs": [
    {
     "data": {
      "text/plain": [
       "50"
      ]
     },
     "execution_count": 23,
     "metadata": {},
     "output_type": "execute_result"
    }
   ],
   "source": [
    "second_largest(n)"
   ]
  },
  {
   "cell_type": "markdown",
   "id": "a6d21a09-76bd-4e0d-8af6-997e18aa0d88",
   "metadata": {},
   "source": [
    "### Check if array is sorted\n",
    "\n",
    "- TC: O(n)\n",
    "- SC: O(1)"
   ]
  },
  {
   "cell_type": "code",
   "execution_count": 24,
   "id": "4f3d0722-93fe-44a8-9541-8c331a8cbca2",
   "metadata": {},
   "outputs": [],
   "source": [
    "def is_sorted(arr):\n",
    "    for i in range(len(arr)-1):\n",
    "        if arr[i]>arr[i+1]:\n",
    "            return False\n",
    "    return True"
   ]
  },
  {
   "cell_type": "code",
   "execution_count": 26,
   "id": "a1dd64ec-acc9-4ce2-a4a9-36070ade4486",
   "metadata": {},
   "outputs": [
    {
     "data": {
      "text/plain": [
       "False"
      ]
     },
     "execution_count": 26,
     "metadata": {},
     "output_type": "execute_result"
    }
   ],
   "source": [
    "is_sorted(n)"
   ]
  },
  {
   "cell_type": "code",
   "execution_count": 27,
   "id": "e72a5788-df82-4d9e-a1fe-d10506702c43",
   "metadata": {},
   "outputs": [
    {
     "data": {
      "text/plain": [
       "True"
      ]
     },
     "execution_count": 27,
     "metadata": {},
     "output_type": "execute_result"
    }
   ],
   "source": [
    "is_sorted([1,2,3,4,5,6,7,8,9])"
   ]
  },
  {
   "cell_type": "markdown",
   "id": "f8836a85-2889-4802-8241-dc4dee7b518e",
   "metadata": {},
   "source": [
    "### Remove Duplicates from Sorted array (inplcae) and find no. of unique elements\n",
    "\n",
    "- TC: O(2n) ~ O(n)\n",
    "- SC: O(n)"
   ]
  },
  {
   "cell_type": "code",
   "execution_count": 28,
   "id": "59cc189e-d226-44ee-80de-fb5c6be3b849",
   "metadata": {},
   "outputs": [],
   "source": [
    "def remove_duplicate(arr):\n",
    "    frequency = dict()\n",
    "    for i in arr:\n",
    "        frequency[i] = 0\n",
    "    j = 0\n",
    "    for key in frequency:\n",
    "        arr[i] = key\n",
    "        j+=1\n",
    "    return j"
   ]
  },
  {
   "cell_type": "code",
   "execution_count": 29,
   "id": "6f7d3fc2-6910-4f05-ab29-d576d05469e7",
   "metadata": {},
   "outputs": [
    {
     "data": {
      "text/plain": [
       "7"
      ]
     },
     "execution_count": 29,
     "metadata": {},
     "output_type": "execute_result"
    }
   ],
   "source": [
    "remove_duplicate([1,1,1,2,2,3,4,5,5,6,7])"
   ]
  },
  {
   "cell_type": "markdown",
   "id": "a40f4487-6e7f-45f1-8ca5-5da7462895e6",
   "metadata": {},
   "source": [
    "#### optimal solution\n",
    "\n",
    "- TC: O(n)\n",
    "- SC: O(1)"
   ]
  },
  {
   "cell_type": "code",
   "execution_count": 34,
   "id": "88c02ff1-f526-4eb2-8eff-7d1a7a263e06",
   "metadata": {},
   "outputs": [],
   "source": [
    "def remove_duplicate(arr):\n",
    "    i, j = 1, 1\n",
    "    n = len(arr)\n",
    "    while i<n:\n",
    "        if arr[i]>arr[j] and arr[j-1]!=arr[i]:\n",
    "            arr[i], arr[j] = arr[j], arr[i]\n",
    "            j+=1\n",
    "        i+=1\n",
    "    return j"
   ]
  },
  {
   "cell_type": "code",
   "execution_count": 36,
   "id": "3bd88ef9-71ef-4bb7-bbb8-e0fa3f394302",
   "metadata": {},
   "outputs": [
    {
     "data": {
      "text/plain": [
       "8"
      ]
     },
     "execution_count": 36,
     "metadata": {},
     "output_type": "execute_result"
    }
   ],
   "source": [
    "x = [1,1,1,2,2,3,4,5,5,6,7,7,8]\n",
    "remove_duplicate(x)"
   ]
  },
  {
   "cell_type": "markdown",
   "id": "197b75ad-7d65-4f92-8abb-fbae92bd9a03",
   "metadata": {},
   "source": [
    "### Right Rotate an array by 1 place\n",
    "\n",
    "- TC: O(n-1) ~O(n)\n",
    "- SC: O(1)"
   ]
  },
  {
   "cell_type": "code",
   "execution_count": 44,
   "id": "3c349286-1eb7-49ff-b6e0-61fec0cf08ee",
   "metadata": {},
   "outputs": [],
   "source": [
    "def rightrotate(arr):\n",
    "    last = arr[-1]\n",
    "    n = len(arr)\n",
    "    for i in range(n-1, 0, -1):\n",
    "        arr[i] = arr[i-1]\n",
    "    arr[0] = last"
   ]
  },
  {
   "cell_type": "code",
   "execution_count": 48,
   "id": "1f230309-9725-4e6c-9d85-a7560d7088aa",
   "metadata": {},
   "outputs": [
    {
     "data": {
      "text/plain": [
       "[9, 0, 2, 3, 5, 4, 6, 7, 8]"
      ]
     },
     "execution_count": 48,
     "metadata": {},
     "output_type": "execute_result"
    }
   ],
   "source": [
    "x = [0,2,3,5,4,6,7,8,9]\n",
    "rightrotate(x)\n",
    "x"
   ]
  },
  {
   "cell_type": "markdown",
   "id": "3360e7cd-63b0-4b68-811c-f3c853f35eaa",
   "metadata": {},
   "source": [
    "### Right Rotate an array by k place\n",
    "\n",
    "- TC: O(r*n) `where r is no of rotations`\n",
    "- SC: O(1)"
   ]
  },
  {
   "cell_type": "code",
   "execution_count": 55,
   "id": "dfadbf54-e239-4164-9e16-c45dfaac2a20",
   "metadata": {},
   "outputs": [],
   "source": [
    "def rightrotatek(arr, k=1):\n",
    "    k %= len(arr)\n",
    "    for _ in range(k):\n",
    "        rightrotate(arr)"
   ]
  },
  {
   "cell_type": "code",
   "execution_count": 56,
   "id": "391a0cf0-6acc-4372-8f67-e0dabe9306ea",
   "metadata": {},
   "outputs": [
    {
     "data": {
      "text/plain": [
       "[9, 0, 2, 3, 5, 4, 6, 7, 8]"
      ]
     },
     "execution_count": 56,
     "metadata": {},
     "output_type": "execute_result"
    }
   ],
   "source": [
    "x = [0,2,3,5,4,6,7,8,9]\n",
    "rightrotatek(x, 10)\n",
    "x"
   ]
  },
  {
   "cell_type": "markdown",
   "id": "447a7a4d-6ff7-4e10-8e71-dd392f9548bf",
   "metadata": {},
   "source": [
    "#### optimal solution\n",
    "\n",
    "- TC: O(n)\n",
    "- SC: O(1)"
   ]
  },
  {
   "cell_type": "code",
   "execution_count": 95,
   "id": "f918d6c9-94ce-4a9c-8876-e096655c0dab",
   "metadata": {},
   "outputs": [],
   "source": [
    "def reverse(arr, l, r):\n",
    "    # TC: O(n/2) ~ O(n)\n",
    "    # SC: O(1)\n",
    "    while l<r:\n",
    "        arr[l], arr[r] = arr[r], arr[l]\n",
    "        l += 1 \n",
    "        r -= 1 "
   ]
  },
  {
   "cell_type": "code",
   "execution_count": 96,
   "id": "90f96e14-e172-43aa-9940-27c6a7ffd0b4",
   "metadata": {},
   "outputs": [],
   "source": [
    "def rightrotatek(arr, k):\n",
    "    n = len(arr)\n",
    "    reverse(arr, n-k, n-1)\n",
    "    reverse(arr, 0, n-k-1)\n",
    "    reverse(arr, 0, n-1)"
   ]
  },
  {
   "cell_type": "code",
   "execution_count": 97,
   "id": "b257805f-9b73-49f1-b80e-37cd0b9c1db2",
   "metadata": {},
   "outputs": [
    {
     "data": {
      "text/plain": [
       "[4, 6, 7, 8, 9, 0, 2, 3, 5]"
      ]
     },
     "execution_count": 97,
     "metadata": {},
     "output_type": "execute_result"
    }
   ],
   "source": [
    "x = [0,2,3,5,4,6,7,8,9]\n",
    "rightrotatek(x, 5)\n",
    "x"
   ]
  },
  {
   "cell_type": "markdown",
   "id": "98fd9241-4b75-4550-aac2-00b8c4c38213",
   "metadata": {},
   "source": [
    "#### Move Zeros to the End while maintaining the order\n",
    "\n",
    "- TC: O(2n) ~ O(n)\n",
    "- SC: O(n)"
   ]
  },
  {
   "cell_type": "code",
   "execution_count": 100,
   "id": "910d8aeb-59cd-4fda-a2d9-649dc9d68562",
   "metadata": {},
   "outputs": [],
   "source": [
    "def zero_to_last(arr):\n",
    "    count = 0\n",
    "    items = []\n",
    "    for i in arr:\n",
    "        if i==0:\n",
    "            count += 1\n",
    "        else:\n",
    "            items.append(i)\n",
    "    arr[:] = items + [0] * count"
   ]
  },
  {
   "cell_type": "code",
   "execution_count": 123,
   "id": "fb641ff8-a537-4811-9a2e-e32ab23d57dc",
   "metadata": {},
   "outputs": [
    {
     "data": {
      "text/plain": [
       "[1, 2, 4, 1, 3, 9, 5, 85, 259, 15, 63, 45, 0, 0, 0, 0, 0, 0, 0]"
      ]
     },
     "execution_count": 123,
     "metadata": {},
     "output_type": "execute_result"
    }
   ],
   "source": [
    "x = [0,1,2,4,0,1,3,0,9,0,5,85,259,0,15,63,0,45,0]\n",
    "zero_to_last(x)\n",
    "x"
   ]
  },
  {
   "cell_type": "code",
   "execution_count": 126,
   "id": "0490463b-ae44-4aec-8809-b549aabe5cad",
   "metadata": {},
   "outputs": [],
   "source": [
    "def zero_to_last(arr):\n",
    "    count = 0\n",
    "    n = len(arr)\n",
    "    i,j, c = 0, 0, 1\n",
    "    while i<n:\n",
    "        print(c)\n",
    "        c+=1\n",
    "        if j<n-1 and arr[j] == 0:\n",
    "            count += 1\n",
    "            j = i+count\n",
    "            continue\n",
    "        \n",
    "        if n-i>count:\n",
    "            arr[i] = arr[j]\n",
    "        else:\n",
    "            arr[i] = 0\n",
    "        i += 1\n",
    "        j = i+count"
   ]
  },
  {
   "cell_type": "code",
   "execution_count": 127,
   "id": "d136fcc9-2990-461b-9c24-8e96331fd811",
   "metadata": {},
   "outputs": [
    {
     "name": "stdout",
     "output_type": "stream",
     "text": [
      "1\n",
      "2\n",
      "3\n",
      "4\n",
      "5\n",
      "6\n",
      "7\n",
      "8\n",
      "9\n",
      "10\n",
      "11\n",
      "12\n",
      "13\n",
      "14\n",
      "15\n",
      "16\n",
      "17\n",
      "18\n",
      "19\n",
      "20\n",
      "21\n",
      "22\n",
      "23\n",
      "24\n",
      "25\n"
     ]
    },
    {
     "data": {
      "text/plain": [
       "[1, 2, 4, 1, 3, 9, 5, 85, 259, 15, 63, 45, 0, 0, 0, 0, 0, 0, 0]"
      ]
     },
     "execution_count": 127,
     "metadata": {},
     "output_type": "execute_result"
    }
   ],
   "source": [
    "x = [0,1,2,4,0,1,3,0,9,0,5,85,259,0,15,63,0,45,0]\n",
    "zero_to_last(x)\n",
    "x"
   ]
  },
  {
   "cell_type": "code",
   "execution_count": null,
   "id": "7ce313b4-21c1-4660-bbeb-b0986fd2b8f7",
   "metadata": {},
   "outputs": [],
   "source": []
  }
 ],
 "metadata": {
  "kernelspec": {
   "display_name": "Python 3 (ipykernel)",
   "language": "python",
   "name": "python3"
  },
  "language_info": {
   "codemirror_mode": {
    "name": "ipython",
    "version": 3
   },
   "file_extension": ".py",
   "mimetype": "text/x-python",
   "name": "python",
   "nbconvert_exporter": "python",
   "pygments_lexer": "ipython3",
   "version": "3.12.1"
  }
 },
 "nbformat": 4,
 "nbformat_minor": 5
}
