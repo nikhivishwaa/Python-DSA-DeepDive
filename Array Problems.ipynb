{
 "cells": [
  {
   "cell_type": "markdown",
   "id": "359c7be9-3d99-4650-8cc8-e5c91431b370",
   "metadata": {},
   "source": [
    "### Largest Elelement of the array\n",
    "\n",
    "- TC: O(n)\n",
    "- SC: O(1)"
   ]
  },
  {
   "cell_type": "code",
   "execution_count": 3,
   "id": "fab4ba21-9eb1-43c8-a54f-325f3ef5fa26",
   "metadata": {},
   "outputs": [],
   "source": [
    "def largest(arr):\n",
    "    max_item = arr[0]\n",
    "    for i in range(1,len(arr)):\n",
    "        if max_item < arr[i]:\n",
    "            max_item = arr[i]\n",
    "    return max_item"
   ]
  },
  {
   "cell_type": "code",
   "execution_count": 4,
   "id": "10bc8f5c-6792-45c6-9133-0060224667d5",
   "metadata": {},
   "outputs": [
    {
     "data": {
      "text/plain": [
       "96"
      ]
     },
     "execution_count": 4,
     "metadata": {},
     "output_type": "execute_result"
    }
   ],
   "source": [
    "n = [50, 1, -5, 1, 24, 12, 11, 96, 41, 20]\n",
    "largest(n)"
   ]
  },
  {
   "cell_type": "code",
   "execution_count": 7,
   "id": "8889886c-855d-49ea-b76e-7f2c1b98126f",
   "metadata": {},
   "outputs": [],
   "source": [
    "def largest(arr):\n",
    "    max_item = float('-inf')\n",
    "    for i in arr:\n",
    "        if max_item < i:\n",
    "            max_item = i\n",
    "    return max_item"
   ]
  },
  {
   "cell_type": "code",
   "execution_count": 8,
   "id": "0a431275-1ec9-4bd2-be5b-bad732648a2b",
   "metadata": {},
   "outputs": [
    {
     "data": {
      "text/plain": [
       "96"
      ]
     },
     "execution_count": 8,
     "metadata": {},
     "output_type": "execute_result"
    }
   ],
   "source": [
    "n = [50, 1, -5, 1, 24, 12, 11, 96, 41, 20]\n",
    "largest(n)"
   ]
  },
  {
   "cell_type": "markdown",
   "id": "897459a5-c939-4736-b802-c08ad9be6e5e",
   "metadata": {},
   "source": [
    "### Second Largest Element\n",
    "\n",
    "##### Brute Force Solution\n",
    "- TC: O(nlogn)\n",
    "- SC: O(1)"
   ]
  },
  {
   "cell_type": "code",
   "execution_count": 9,
   "id": "f8807c91-478a-4f66-b4fe-f04e785bff0a",
   "metadata": {},
   "outputs": [],
   "source": [
    "def second_largest(arr):\n",
    "    arr.sort()\n",
    "    return arr[-2]"
   ]
  },
  {
   "cell_type": "code",
   "execution_count": 10,
   "id": "ddf11718-4348-4001-a115-18c9629bdf37",
   "metadata": {},
   "outputs": [
    {
     "data": {
      "text/plain": [
       "50"
      ]
     },
     "execution_count": 10,
     "metadata": {},
     "output_type": "execute_result"
    }
   ],
   "source": [
    "second_largest(n.copy())"
   ]
  },
  {
   "cell_type": "markdown",
   "id": "799dde11-6212-40c4-8d64-9b94be4a066b",
   "metadata": {},
   "source": [
    "#### Better Solution\n",
    "- TC: O(2n) ~ O(n)\n",
    "- SC: O(1)"
   ]
  },
  {
   "cell_type": "code",
   "execution_count": 13,
   "id": "8fec57fc-fa26-4441-978a-9ab3e53a9ac4",
   "metadata": {},
   "outputs": [],
   "source": [
    "def second_largest(arr):\n",
    "    max_item = largest(arr)\n",
    "    second_largest = float('-inf')\n",
    "\n",
    "    for i in arr:\n",
    "        if i > second_largest and i < max_item:\n",
    "            second_largest = i\n",
    "    return second_largest"
   ]
  },
  {
   "cell_type": "code",
   "execution_count": 15,
   "id": "20e1b4a3-61c3-4680-8397-7e4451113404",
   "metadata": {},
   "outputs": [
    {
     "data": {
      "text/plain": [
       "50"
      ]
     },
     "execution_count": 15,
     "metadata": {},
     "output_type": "execute_result"
    }
   ],
   "source": [
    "second_largest(n)"
   ]
  },
  {
   "cell_type": "markdown",
   "id": "181b5037-1250-4147-87df-3f912cc08ffa",
   "metadata": {},
   "source": [
    "#### Optimal Solution\n",
    "- TC: O(n)\n",
    "- SC: O(1)"
   ]
  },
  {
   "cell_type": "code",
   "execution_count": 22,
   "id": "b08d9eb6-1fb0-4211-80a7-bf9a46962827",
   "metadata": {},
   "outputs": [],
   "source": [
    "def second_largest(arr):\n",
    "    max_item = float('-inf')\n",
    "    second_largest = float('-inf')\n",
    "\n",
    "    for i in arr:\n",
    "        if i > max_item:\n",
    "            second_largest = max_item\n",
    "            max_item = i\n",
    "        elif i > second_largest and i < max_item:\n",
    "            second_largest = i\n",
    "    return second_largest"
   ]
  },
  {
   "cell_type": "code",
   "execution_count": 23,
   "id": "97801a86-ab5a-431f-89c8-3952c9b34672",
   "metadata": {},
   "outputs": [
    {
     "data": {
      "text/plain": [
       "50"
      ]
     },
     "execution_count": 23,
     "metadata": {},
     "output_type": "execute_result"
    }
   ],
   "source": [
    "second_largest(n)"
   ]
  },
  {
   "cell_type": "code",
   "execution_count": null,
   "id": "f5ae998c-d142-4e22-8ac7-8ef59cf2fe13",
   "metadata": {},
   "outputs": [],
   "source": []
  }
 ],
 "metadata": {
  "kernelspec": {
   "display_name": "Python 3 (ipykernel)",
   "language": "python",
   "name": "python3"
  },
  "language_info": {
   "codemirror_mode": {
    "name": "ipython",
    "version": 3
   },
   "file_extension": ".py",
   "mimetype": "text/x-python",
   "name": "python",
   "nbconvert_exporter": "python",
   "pygments_lexer": "ipython3",
   "version": "3.12.1"
  }
 },
 "nbformat": 4,
 "nbformat_minor": 5
}
